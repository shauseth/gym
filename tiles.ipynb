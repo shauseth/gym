{
 "cells": [
  {
   "cell_type": "code",
   "execution_count": 41,
   "metadata": {},
   "outputs": [],
   "source": [
    "import numpy as np\n",
    "import matplotlib.pyplot as plt\n",
    "\n",
    "import tiles3 as tc\n",
    "\n",
    "import time\n",
    "from IPython.display import clear_output"
   ]
  },
  {
   "cell_type": "code",
   "execution_count": 33,
   "metadata": {},
   "outputs": [],
   "source": [
    "class TileCoder:\n",
    "\n",
    "    def __init__(self, iht_size, num_tiles, num_tilings):\n",
    "        self.iht = tc.IHT(iht_size)\n",
    "        self.num_tiles = num_tiles\n",
    "        self.num_tilings = num_tilings\n",
    "\n",
    "    def get_tiles(self, x, y, z):\n",
    "        x *= self.num_tiles\n",
    "        y *= self.num_tiles\n",
    "        z *= self.num_tiles\n",
    "        tiles = tc.tiles(self.iht, self.num_tilings, [x, y, z])\n",
    "        return tiles"
   ]
  },
  {
   "cell_type": "code",
   "execution_count": 64,
   "metadata": {},
   "outputs": [
    {
     "data": {
      "image/png": "[encoded data removed]",
      "text/plain": [
       "<Figure size 300x300 with 1 Axes>"
      ]
     },
     "metadata": {},
     "output_type": "display_data"
    },
    {
     "name": "stdout",
     "output_type": "stream",
     "text": [
      "[161, 162, 163, 164, 155, 156, 165, 166, 147, 148, 167, 168, 159, 169, 160, 142] \t 1.0\n"
     ]
    }
   ],
   "source": [
    "tilecoder = TileCoder(iht_size=1024, num_tiles=4, num_tilings=16)\n",
    "\n",
    "for x in np.linspace(0, 1, num=20):\n",
    "    tiles = tilecoder.get_tiles(x, x, x)\n",
    "    plt.figure(figsize=(3, 3))\n",
    "    plt.plot(tiles)\n",
    "    plt.ylim(0, 200)\n",
    "    plt.show()\n",
    "    print(tiles, '\\t', x)\n",
    "    time.sleep(0.1)\n",
    "    clear_output(wait=True)"
   ]
  },
  {
   "cell_type": "code",
   "execution_count": null,
   "metadata": {},
   "outputs": [],
   "source": []
  }
 ],
 "metadata": {
  "kernelspec": {
   "display_name": "Python 3",
   "language": "python",
   "name": "python3"
  },
  "language_info": {
   "codemirror_mode": {
    "name": "ipython",
    "version": 3
   },
   "file_extension": ".py",
   "mimetype": "text/x-python",
   "name": "python",
   "nbconvert_exporter": "python",
   "pygments_lexer": "ipython3",
   "version": "3.9.6"
  }
 },
 "nbformat": 4,
 "nbformat_minor": 2
}
