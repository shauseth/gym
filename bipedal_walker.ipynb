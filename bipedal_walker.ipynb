{
 "cells": [
  {
   "cell_type": "code",
   "execution_count": 213,
   "metadata": {},
   "outputs": [],
   "source": [
    "import numpy as np\n",
    "import matplotlib.pyplot as plt\n",
    "\n",
    "import tiles3 as tc\n",
    "import gymnasium as gym\n",
    "from agents import SarsaLambdaAgent\n",
    "\n",
    "import time\n",
    "from tqdm import tqdm\n",
    "from IPython.display import clear_output"
   ]
  },
  {
   "cell_type": "code",
   "execution_count": 214,
   "metadata": {},
   "outputs": [],
   "source": [
    "class TileCoder:\n",
    "\n",
    "    def __init__(self, iht_size, num_tiles, num_tilings):\n",
    "        self.iht = tc.IHT(iht_size)\n",
    "        self.num_tiles = num_tiles\n",
    "        self.num_tilings = num_tilings\n",
    "\n",
    "    def get_tiles(self, obs):\n",
    "        hull_angle_speed, angular_velocity, horizontal_speed, vertical_speed, \\\n",
    "        leg1_joint1, leg1_joint1_angular, leg1_joint2, leg1_joint2_angular, leg1_contact, \\\n",
    "        leg2_joint1, leg2_joint1_angular, leg2_joint2, leg2_joint2_angular, leg2_contact, \\\n",
    "        lidar1, lidar2, lidar3, lidar4, lidar5, lidar6, lidar7, lidar8, lidar9, lidar10 = obs\n",
    "\n",
    "        hull_angle_speed *= self.num_tiles / 6.2831854\n",
    "        angular_velocity *= self.num_tiles / 10.0\n",
    "        horizontal_speed *= self.num_tiles / 10.0\n",
    "        vertical_speed *= self.num_tiles / 10.0\n",
    "\n",
    "        leg1_joint1 *= self.num_tiles / 6.2831855\n",
    "        leg1_joint1_angular *= self.num_tiles / 10.0\n",
    "        leg1_joint2 *= self.num_tiles / 6.2831855\n",
    "        leg1_joint2_angular *= self.num_tiles / 10.0\n",
    "        leg1_contact *= self.num_tiles / 5.0\n",
    "\n",
    "        leg2_joint1 *= self.num_tiles / 6.2831855\n",
    "        leg2_joint1_angular *= self.num_tiles / 10.0\n",
    "        leg2_joint2 *= self.num_tiles / 6.2831855\n",
    "        leg2_joint2_angular *= self.num_tiles / 10.0\n",
    "        leg2_contact *= self.num_tiles / 5.0\n",
    "\n",
    "        lidar1 *= self.num_tiles / 2.0\n",
    "        lidar2 *= self.num_tiles / 2.0\n",
    "        lidar3 *= self.num_tiles / 2.0\n",
    "        lidar4 *= self.num_tiles / 2.0\n",
    "        lidar5 *= self.num_tiles / 2.0\n",
    "        lidar6 *= self.num_tiles / 2.0\n",
    "        lidar7 *= self.num_tiles / 2.0\n",
    "        lidar8 *= self.num_tiles / 2.0\n",
    "        lidar9 *= self.num_tiles / 2.0\n",
    "        lidar10 *= self.num_tiles / 2.0\n",
    "\n",
    "        tiles = tc.tiles(\n",
    "            self.iht, self.num_tilings, [\n",
    "                hull_angle_speed, angular_velocity, horizontal_speed, vertical_speed, \\\n",
    "                leg1_joint1, leg1_joint1_angular, leg1_joint2, leg1_joint2_angular, leg1_contact, \\\n",
    "                leg2_joint1, leg2_joint1_angular, leg2_joint2, leg2_joint2_angular, leg2_contact\n",
    "            ]\n",
    "        )\n",
    "        return tiles"
   ]
  },
  {
   "cell_type": "code",
   "execution_count": 316,
   "metadata": {},
   "outputs": [],
   "source": [
    "def plot(rewards_list):\n",
    "    plt.figure(figsize=(4, 3))\n",
    "    plt.plot(rewards_list, color='mediumseagreen', linewidth=1)\n",
    "    plt.plot([0, len(rewards_list)-1], [300, 300], linestyle='dashed', color='grey', alpha=0.5)\n",
    "    plt.grid(alpha=0.2)\n",
    "    plt.title('SARSA(λ) for BipedalWalker-v3')\n",
    "    plt.xlabel('Episode')\n",
    "    plt.ylabel('Total reward per episode')\n",
    "    plt.show()\n",
    "    print('iht:', tilecoder.iht.count())\n",
    "    clear_output(wait=True)\n",
    "\n",
    "def render(env, episode, step, action, reward):\n",
    "    img = env.render()\n",
    "    plt.imshow(img)\n",
    "    plt.text(15, 30, 'Episode: ' + str(episode))\n",
    "    plt.text(15, 50, 'Step: ' + str(step))\n",
    "    plt.text(15, 70, 'Action: ' + str(action))\n",
    "    plt.text(15, 90, 'Reward: ' + str(round(reward, 4)))\n",
    "    plt.show()\n",
    "    clear_output(wait=True)"
   ]
  },
  {
   "cell_type": "code",
   "execution_count": 327,
   "metadata": {},
   "outputs": [],
   "source": [
    "actions = [\n",
    "    [-1.0, 0.5, 1.0, -0.5],\n",
    "    [1.0, -0.5, -1.0, 0.5]\n",
    "]\n",
    "\n",
    "def get_action(action_idx):\n",
    "    action = np.array(actions[action_idx])\n",
    "    return action"
   ]
  },
  {
   "cell_type": "code",
   "execution_count": 328,
   "metadata": {},
   "outputs": [],
   "source": [
    "tilecoder = TileCoder(iht_size=131072, num_tiles=8, num_tilings=8)\n",
    "agent = SarsaLambdaAgent(num_actions=len(actions), tilecoder=tilecoder)\n",
    "tiles = tilecoder.get_tiles(np.zeros(24))\n",
    "agent.alpha = 0.5 / len(tiles)\n",
    "agent.gamma = 1.0\n",
    "agent.epsilon = 0.0\n",
    "agent.lambd = 0.9\n",
    "episode = 0\n",
    "rewards_list = []"
   ]
  },
  {
   "cell_type": "code",
   "execution_count": 333,
   "metadata": {},
   "outputs": [
    {
     "ename": "KeyboardInterrupt",
     "evalue": "",
     "output_type": "error",
     "traceback": [
      "\u001b[0;31m---------------------------------------------------------------------------\u001b[0m",
      "\u001b[0;31mKeyboardInterrupt\u001b[0m                         Traceback (most recent call last)",
      "\u001b[1;32m/Users/shauseth/Documents/GitHub/gym/bipedal_walker.ipynb Cell 6\u001b[0m line \u001b[0;36m1\n\u001b[1;32m     <a href='vscode-notebook-cell:/Users/shauseth/Documents/GitHub/gym/bipedal_walker.ipynb#X32sZmlsZQ%3D%3D?line=10'>11</a>\u001b[0m \u001b[39mwhile\u001b[39;00m \u001b[39mTrue\u001b[39;00m:\n\u001b[1;32m     <a href='vscode-notebook-cell:/Users/shauseth/Documents/GitHub/gym/bipedal_walker.ipynb#X32sZmlsZQ%3D%3D?line=11'>12</a>\u001b[0m     obs, reward, done, over, _ \u001b[39m=\u001b[39m env\u001b[39m.\u001b[39mstep(action)\n\u001b[0;32m---> <a href='vscode-notebook-cell:/Users/shauseth/Documents/GitHub/gym/bipedal_walker.ipynb#X32sZmlsZQ%3D%3D?line=12'>13</a>\u001b[0m     action \u001b[39m=\u001b[39m get_action(agent\u001b[39m.\u001b[39;49mstep(obs, reward))\n\u001b[1;32m     <a href='vscode-notebook-cell:/Users/shauseth/Documents/GitHub/gym/bipedal_walker.ipynb#X32sZmlsZQ%3D%3D?line=13'>14</a>\u001b[0m     rewards \u001b[39m+\u001b[39m\u001b[39m=\u001b[39m reward\n\u001b[1;32m     <a href='vscode-notebook-cell:/Users/shauseth/Documents/GitHub/gym/bipedal_walker.ipynb#X32sZmlsZQ%3D%3D?line=14'>15</a>\u001b[0m     \u001b[39mif\u001b[39;00m done \u001b[39mor\u001b[39;00m over:\n",
      "File \u001b[0;32m~/Documents/GitHub/gym/agents.py:61\u001b[0m, in \u001b[0;36mSarsaLambdaAgent.step\u001b[0;34m(self, state, reward)\u001b[0m\n\u001b[1;32m     59\u001b[0m \u001b[39mfor\u001b[39;00m i \u001b[39min\u001b[39;00m tiles:\n\u001b[1;32m     60\u001b[0m     delta \u001b[39m+\u001b[39m\u001b[39m=\u001b[39m \u001b[39mself\u001b[39m\u001b[39m.\u001b[39mgamma \u001b[39m*\u001b[39m \u001b[39mself\u001b[39m\u001b[39m.\u001b[39mw[action][i]\n\u001b[0;32m---> 61\u001b[0m \u001b[39mself\u001b[39m\u001b[39m.\u001b[39mw \u001b[39m+\u001b[39m\u001b[39m=\u001b[39m \u001b[39mself\u001b[39;49m\u001b[39m.\u001b[39;49malpha \u001b[39m*\u001b[39;49m delta \u001b[39m*\u001b[39;49m \u001b[39mself\u001b[39;49m\u001b[39m.\u001b[39;49mz\n\u001b[1;32m     62\u001b[0m \u001b[39mself\u001b[39m\u001b[39m.\u001b[39mz \u001b[39m*\u001b[39m\u001b[39m=\u001b[39m \u001b[39mself\u001b[39m\u001b[39m.\u001b[39mgamma \u001b[39m*\u001b[39m \u001b[39mself\u001b[39m\u001b[39m.\u001b[39mlambd\n\u001b[1;32m     63\u001b[0m \u001b[39mself\u001b[39m\u001b[39m.\u001b[39mlast_action \u001b[39m=\u001b[39m action\n",
      "\u001b[0;31mKeyboardInterrupt\u001b[0m: "
     ]
    }
   ],
   "source": [
    "num_episodes = 5000\n",
    "plot_episode = 10\n",
    "agent.alpha = 0.005 / len(tiles)\n",
    "agent.epsilon = 0.1\n",
    "\n",
    "env = gym.make('BipedalWalker-v3')\n",
    "for i in range(num_episodes):\n",
    "    obs, _ = env.reset()\n",
    "    action = get_action(agent.start(obs))\n",
    "    rewards = 0\n",
    "    while True:\n",
    "        obs, reward, done, over, _ = env.step(action)\n",
    "        action = get_action(agent.step(obs, reward))\n",
    "        rewards += reward\n",
    "        if done or over:\n",
    "            agent.end(reward)\n",
    "            break\n",
    "    rewards_list.append(rewards)\n",
    "    episode += 1\n",
    "    if i % plot_episode == 0:\n",
    "        plot(rewards_list)"
   ]
  },
  {
   "cell_type": "code",
   "execution_count": 334,
   "metadata": {},
   "outputs": [
    {
     "data": {
      "image/png": "[encoded data removed]",
      "text/plain": [
       "<Figure size 640x480 with 1 Axes>"
      ]
     },
     "metadata": {},
     "output_type": "display_data"
    }
   ],
   "source": [
    "env = gym.make('BipedalWalker-v3', render_mode='rgb_array')\n",
    "obs, _ = env.reset()\n",
    "action = get_action(agent.start(obs))\n",
    "step = 0\n",
    "while True:\n",
    "    obs, reward, done, over, _ = env.step(action)\n",
    "    action = get_action(agent.step(obs, reward))\n",
    "    step += 1\n",
    "    render(env, episode, step, action, reward)\n",
    "    if done or over:\n",
    "        agent.end(reward)\n",
    "        break"
   ]
  },
  {
   "cell_type": "code",
   "execution_count": null,
   "metadata": {},
   "outputs": [],
   "source": []
  }
 ],
 "metadata": {
  "kernelspec": {
   "display_name": "Python 3",
   "language": "python",
   "name": "python3"
  },
  "language_info": {
   "codemirror_mode": {
    "name": "ipython",
    "version": 3
   },
   "file_extension": ".py",
   "mimetype": "text/x-python",
   "name": "python",
   "nbconvert_exporter": "python",
   "pygments_lexer": "ipython3",
   "version": "3.9.6"
  }
 },
 "nbformat": 4,
 "nbformat_minor": 2
}
