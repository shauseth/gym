{
 "cells": [
  {
   "cell_type": "code",
   "execution_count": 144,
   "metadata": {},
   "outputs": [],
   "source": [
    "import time\n",
    "\n",
    "import numpy as np\n",
    "import matplotlib.pyplot as plt\n",
    "\n",
    "import tiles3 as tc\n",
    "import gymnasium as gym\n",
    "from agents import SarsaLambdaAgent\n",
    "\n",
    "from IPython.display import clear_output"
   ]
  },
  {
   "cell_type": "code",
   "execution_count": 304,
   "metadata": {},
   "outputs": [],
   "source": [
    "class TileCoder:\n",
    "\n",
    "    def __init__(self, iht_size, num_tiles, num_tilings):\n",
    "        self.iht = tc.IHT(iht_size)\n",
    "        self.num_tiles = num_tiles\n",
    "        self.num_tilings = num_tilings\n",
    "\n",
    "    def get_tiles(self, obs):\n",
    "        cos, sin, angular = obs\n",
    "        cos *= self.num_tiles / 2.0\n",
    "        sin *= self.num_tiles / 2.0\n",
    "        angular *= self.num_tiles / 16.0\n",
    "        tiles = tc.tiles(self.iht, self.num_tilings, [cos, sin, angular])\n",
    "        return np.array(tiles)"
   ]
  },
  {
   "cell_type": "code",
   "execution_count": 305,
   "metadata": {},
   "outputs": [],
   "source": [
    "def plot(total_reward_list):\n",
    "    plt.figure(figsize=(4, 3))\n",
    "    plt.plot(total_reward_list, color='mediumseagreen')\n",
    "    plt.grid(alpha=0.2)\n",
    "    plt.title('SARSA(λ) for Pendulum-v1')\n",
    "    plt.xlabel('episode')\n",
    "    plt.ylabel('total_reward')\n",
    "    plt.show()\n",
    "    clear_output(wait=True)\n",
    "\n",
    "def render(env, agent):\n",
    "    img = env.render()\n",
    "    plt.imshow(img)\n",
    "    plt.show()\n",
    "    print(agent.last_tiles)\n",
    "    clear_output(wait=True)"
   ]
  },
  {
   "cell_type": "code",
   "execution_count": 308,
   "metadata": {},
   "outputs": [],
   "source": [
    "env = gym.make('Pendulum-v1', g=9.81, render_mode='rgb_array')\n",
    "tilecoder = TileCoder(iht_size=4096, num_tiles=8, num_tilings=8)\n",
    "agent = SarsaLambdaAgent(num_actions=3, tilecoder=tilecoder)\n",
    "actions = np.array([[-2.0, 0.0, 2.0]]).T\n",
    "agent.alpha = 0.1 / 8\n",
    "agent.gamma = 1.0\n",
    "agent.epsilon = 0.0\n",
    "agent.lambd = 0.9\n",
    "total_reward_list = []"
   ]
  },
  {
   "cell_type": "code",
   "execution_count": 310,
   "metadata": {},
   "outputs": [
    {
     "data": {
      "image/png": "[encoded data removed]",
      "text/plain": [
       "<Figure size 640x480 with 1 Axes>"
      ]
     },
     "metadata": {},
     "output_type": "display_data"
    },
    {
     "name": "stdout",
     "output_type": "stream",
     "text": [
      "[1761 1752 1365 1750 1373 1362 1751 1369]\n"
     ]
    }
   ],
   "source": [
    "num_episodes = 5\n",
    "mode = 'render'\n",
    "# mode = 'plot'\n",
    "\n",
    "for episode in range(num_episodes):\n",
    "    obs, _ = env.reset()\n",
    "    action = actions[agent.start(obs)]\n",
    "    total_reward = 0\n",
    "    while True:\n",
    "        obs, reward, done, over, _ = env.step(action)\n",
    "        action = actions[agent.step(obs, reward)]\n",
    "        total_reward += reward\n",
    "        if mode == 'render':\n",
    "            render(env, agent)\n",
    "        if done or over:\n",
    "            agent.end(reward)\n",
    "            break\n",
    "    total_reward_list.append(total_reward)\n",
    "    if mode == 'plot':\n",
    "        plot(total_reward_list)"
   ]
  },
  {
   "cell_type": "code",
   "execution_count": null,
   "metadata": {},
   "outputs": [],
   "source": []
  }
 ],
 "metadata": {
  "kernelspec": {
   "display_name": "Python 3",
   "language": "python",
   "name": "python3"
  },
  "language_info": {
   "codemirror_mode": {
    "name": "ipython",
    "version": 3
   },
   "file_extension": ".py",
   "mimetype": "text/x-python",
   "name": "python",
   "nbconvert_exporter": "python",
   "pygments_lexer": "ipython3",
   "version": "3.9.6"
  }
 },
 "nbformat": 4,
 "nbformat_minor": 2
}
