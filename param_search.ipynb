{
 "cells": [
  {
   "cell_type": "code",
   "execution_count": 42,
   "metadata": {},
   "outputs": [],
   "source": [
    "import numpy as np\n",
    "import matplotlib.pyplot as plt\n",
    "\n",
    "import tiles3 as tc\n",
    "import gymnasium as gym\n",
    "\n",
    "from joblib import Parallel, delayed\n",
    "\n",
    "from tqdm import tqdm"
   ]
  },
  {
   "cell_type": "code",
   "execution_count": 81,
   "metadata": {},
   "outputs": [],
   "source": [
    "class TileCoder:\n",
    "\n",
    "    def __init__(self, iht_size, num_tiles, num_tilings):\n",
    "        self.iht = tc.IHT(iht_size)\n",
    "        self.num_tiles = num_tiles\n",
    "        self.num_tilings = num_tilings\n",
    "\n",
    "    def get_tiles(self, obs):\n",
    "        position, velocity = obs\n",
    "        position *= self.num_tiles / 1.8\n",
    "        velocity *= self.num_tiles / 0.14\n",
    "        tiles = tc.tiles(self.iht, self.num_tilings, [position, velocity])\n",
    "        return np.array(tiles)"
   ]
  },
  {
   "cell_type": "code",
   "execution_count": 82,
   "metadata": {},
   "outputs": [],
   "source": [
    "class SarsaAgent:\n",
    "\n",
    "    def __init__(self, num_actions, tilecoder):\n",
    "        self.num_actions = num_actions\n",
    "        self.tilecoder = tilecoder\n",
    "        self.iht_size = tilecoder.iht.size\n",
    "        self.epsilon = None\n",
    "        self.gamma = None\n",
    "        self.alpha = None\n",
    "        self.w = np.zeros([self.num_actions, self.iht_size])\n",
    "        self.last_action = None\n",
    "        self.last_tiles = None\n",
    "\n",
    "    def select_action(self, tiles):\n",
    "        if np.random.random() > self.epsilon:\n",
    "            action_values = self.w[:, tiles].sum(axis=1)\n",
    "            action = action_values.argmax()\n",
    "        else:\n",
    "            action = np.random.choice(self.num_actions)\n",
    "        return action\n",
    "    \n",
    "    def start(self, state):\n",
    "        tiles = self.tilecoder.get_tiles(state)\n",
    "        action = self.select_action(tiles)\n",
    "        self.last_action = action\n",
    "        self.last_tiles = tiles.copy()\n",
    "        return self.last_action\n",
    "    \n",
    "    def step(self, state, reward):\n",
    "        tiles = self.tilecoder.get_tiles(state)\n",
    "        action = self.select_action(tiles)\n",
    "\n",
    "        last_value = self.w[self.last_action][self.last_tiles].sum()\n",
    "        current_value = self.w[action][tiles].sum()\n",
    "        delta = reward + self.gamma * current_value - last_value\n",
    "        self.w[self.last_action][self.last_tiles] += self.alpha * delta\n",
    "\n",
    "        self.last_action = action\n",
    "        self.last_tiles = tiles.copy()\n",
    "        return self.last_action\n",
    "    \n",
    "    def end(self, reward):\n",
    "        last_value = self.w[self.last_action][self.last_tiles].sum()\n",
    "        delta = reward - last_value\n",
    "        self.w[self.last_action][self.last_tiles] += self.alpha * delta"
   ]
  },
  {
   "cell_type": "code",
   "execution_count": 83,
   "metadata": {},
   "outputs": [
    {
     "name": "stderr",
     "output_type": "stream",
     "text": [
      "100%|██████████| 100/100 [00:31<00:00,  3.16it/s]\n"
     ]
    }
   ],
   "source": [
    "env = gym.make('MountainCar-v0', max_episode_steps=1000)\n",
    "\n",
    "def run():\n",
    "    tilecoder = TileCoder(iht_size=4096, num_tiles=8, num_tilings=8)\n",
    "    agent = SarsaAgent(num_actions=3, tilecoder=tilecoder)\n",
    "    agent.epsilon = 0.1\n",
    "    agent.alpha = 0.5 / tilecoder.num_tilings\n",
    "    agent.gamma = 1.0\n",
    "    n_episodes = 500\n",
    "    nsteps_list = []\n",
    "    for _ in range(n_episodes):\n",
    "        obs, _ = env.reset()\n",
    "        action = agent.start(obs)\n",
    "        nsteps = 0\n",
    "        while True:\n",
    "            obs, reward, done, over, _ = env.step(action)\n",
    "            action = agent.step(obs, reward)\n",
    "            nsteps += 1\n",
    "            if done or over:\n",
    "                agent.end(reward)\n",
    "                break\n",
    "        nsteps_list.append(nsteps)\n",
    "    return nsteps_list\n",
    "\n",
    "n_runs = 100\n",
    "results = Parallel(n_jobs=-1)(delayed(run)() for _ in tqdm(range(n_runs)))"
   ]
  },
  {
   "cell_type": "code",
   "execution_count": 80,
   "metadata": {},
   "outputs": [
    {
     "data": {
      "image/png": "[encoded data removed]",
      "text/plain": [
       "<Figure size 640x480 with 1 Axes>"
      ]
     },
     "metadata": {},
     "output_type": "display_data"
    }
   ],
   "source": [
    "plt.plot(np.mean(results, axis=0))\n",
    "plt.show()"
   ]
  },
  {
   "cell_type": "code",
   "execution_count": null,
   "metadata": {},
   "outputs": [],
   "source": []
  }
 ],
 "metadata": {
  "kernelspec": {
   "display_name": "Python 3",
   "language": "python",
   "name": "python3"
  },
  "language_info": {
   "codemirror_mode": {
    "name": "ipython",
    "version": 3
   },
   "file_extension": ".py",
   "mimetype": "text/x-python",
   "name": "python",
   "nbconvert_exporter": "python",
   "pygments_lexer": "ipython3",
   "version": "3.9.6"
  }
 },
 "nbformat": 4,
 "nbformat_minor": 2
}
