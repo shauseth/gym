{
 "cells": [
  {
   "cell_type": "code",
   "execution_count": 140,
   "metadata": {},
   "outputs": [],
   "source": [
    "import numpy as np\n",
    "import matplotlib.pyplot as plt\n",
    "from IPython.display import clear_output"
   ]
  },
  {
   "cell_type": "code",
   "execution_count": 141,
   "metadata": {},
   "outputs": [],
   "source": [
    "class TDZeroAgent:\n",
    "    \"\"\"Tabular TD(0) for estimating v_pi\"\"\"\n",
    "    def __init__(self, n_states):\n",
    "        self.alpha = None\n",
    "        self.gamma = None\n",
    "        self.values = np.zeros(n_states)\n",
    "        self.last_state = None\n",
    "\n",
    "    def start(self, state):\n",
    "        self.last_state = state\n",
    "\n",
    "    def step(self, state, reward):\n",
    "        delta = reward + self.gamma * self.values[state] - self.values[self.last_state]\n",
    "        self.values[self.last_state] += self.alpha * delta\n",
    "        self.last_state = state\n",
    "\n",
    "    def end(self, reward):\n",
    "        delta = reward - self.values[self.last_state]\n",
    "        self.values[self.last_state] += self.alpha * delta"
   ]
  },
  {
   "cell_type": "code",
   "execution_count": 139,
   "metadata": {},
   "outputs": [],
   "source": [
    "class RandomWalk:\n",
    "\n",
    "    def __init__(self):\n",
    "        self.state = None\n",
    "\n",
    "    def start(self):\n",
    "        self.state = 2\n",
    "        done = False\n",
    "        return self.state, done\n",
    "\n",
    "    def step(self):\n",
    "        self.state += np.random.choice([-1, 1])\n",
    "        reward = 1 if self.state == 5 else 0\n",
    "        done = True if (self.state == -1) or (self.state == 5) else False\n",
    "        self.state = None if (self.state == -1) or (self.state == 5) else self.state\n",
    "        return self.state, reward, done"
   ]
  },
  {
   "cell_type": "code",
   "execution_count": 150,
   "metadata": {},
   "outputs": [],
   "source": [
    "true_values = np.array([1/6, 2/6, 3/6, 4/6, 5/6])\n",
    "\n",
    "def plot(values):\n",
    "    plt.figure(figsize=(4, 3))\n",
    "    plt.plot(values, marker='o', markersize=3, linewidth=1, color='royalblue', label='Estimate')\n",
    "    plt.plot(true_values, marker='o', markersize=3, linewidth=1, color='grey', alpha=0.5, label='True')\n",
    "    plt.xticks(range(5), ['A', 'B', 'C', 'D', 'E'])\n",
    "    plt.xlabel('State')\n",
    "    plt.ylabel('Value')\n",
    "    plt.ylim(0, 0.9)\n",
    "    plt.legend()\n",
    "    plt.show()"
   ]
  },
  {
   "cell_type": "code",
   "execution_count": 152,
   "metadata": {},
   "outputs": [
    {
     "data": {
      "image/png": "[encoded data removed]",
      "text/plain": [
       "<Figure size 400x300 with 1 Axes>"
      ]
     },
     "metadata": {},
     "output_type": "display_data"
    }
   ],
   "source": [
    "env = RandomWalk()\n",
    "agent = TDZeroAgent(n_states=5)\n",
    "agent.alpha = 0.1\n",
    "agent.gamma = 1\n",
    "agent.values += 0.5\n",
    "\n",
    "for _ in range(100):\n",
    "    state, done = env.start()\n",
    "    agent.start(state)\n",
    "    while not done:\n",
    "        state, reward, done = env.step()\n",
    "        if done:\n",
    "            agent.end(reward)\n",
    "        else:\n",
    "            agent.step(state, reward)\n",
    "    plot(agent.values)\n",
    "    clear_output(wait=True)"
   ]
  },
  {
   "cell_type": "code",
   "execution_count": null,
   "metadata": {},
   "outputs": [],
   "source": []
  }
 ],
 "metadata": {
  "kernelspec": {
   "display_name": "Python 3",
   "language": "python",
   "name": "python3"
  },
  "language_info": {
   "codemirror_mode": {
    "name": "ipython",
    "version": 3
   },
   "file_extension": ".py",
   "mimetype": "text/x-python",
   "name": "python",
   "nbconvert_exporter": "python",
   "pygments_lexer": "ipython3",
   "version": "3.9.6"
  }
 },
 "nbformat": 4,
 "nbformat_minor": 2
}
